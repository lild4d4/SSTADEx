{
 "cells": [
  {
   "cell_type": "code",
   "execution_count": 1,
   "metadata": {},
   "outputs": [],
   "source": [
    "from sstadex import Macromodel, bfs, Primitive, dfs, simplediffpair, cs_pmos, cm_pmos\n",
    "import numpy as np\n",
    "from sympy import Symbol\n",
    "import matplotlib.pyplot as plt\n",
    "\n",
    "XSCHEM_RCFILE = \"/opt/pdks/sky130A/libs.tech/xschem/xschemrc\"\n",
    "SPICE_DIR = \"./spice/\"\n",
    "OUTPUT_DIR = \"./output/\"\n",
    "XSCHEM_DIR = \"./xschem/\""
   ]
  },
  {
   "cell_type": "markdown",
   "metadata": {},
   "source": [
    "# 1 stage Miller OTA"
   ]
  },
  {
   "cell_type": "code",
   "execution_count": 2,
   "metadata": {},
   "outputs": [
    {
     "name": "stdout",
     "output_type": "stream",
     "text": [
      "vds\n",
      "vgs\n",
      "1\n",
      "Macro results of:  ota\n",
      "Running MNA... \n"
     ]
    },
    {
     "name": "stderr",
     "output_type": "stream",
     "text": [
      "\n",
      "   X server connection failed, although DISPLAY shell variable is set.\n",
      "   A possible reason is that the X server is not running or DISPLAY shell variable\n",
      "   is incorrectly set.\n",
      "   Starting Xschem in text only mode.\n",
      "\n"
     ]
    },
    {
     "name": "stdout",
     "output_type": "stream",
     "text": [
      "A:  Matrix([[1/Rdif_2 + 1/Raload_2, -gdif_2 - 1/Rdif_2, gdif_2, 0, 0, -1/Raload_2, 0, 0, 0], [-1/Rdif_2, gdif_1 + gdif_2 + 1/Rdif_2 + 1/Rdif_1, -gdif_2, -1/Rdif_1, -gdif_1, 0, 0, 0, 0], [0, 0, 0, 0, 0, 0, 0, 1, 0], [gaload, -gdif_1 - 1/Rdif_1, 0, 1/Rdif_1 + 1/Raload_1, gdif_1, -gaload - 1/Raload_1, 0, 0, 0], [0, 0, 0, 0, 0, 0, 0, 0, 1], [-gaload - 1/Raload_2, 0, 0, -1/Raload_1, 0, gaload + 1/Raload_2 + 1/Raload_1, 1, 0, 0], [0, 0, 0, 0, 0, 1, 0, 0, 0], [0, 0, 1, 0, 0, 0, 0, 0, 0], [0, 0, 0, 0, 1, 0, 0, 0, 0]])\n",
      "[v1, v2, v3, v4, v5, v6, I_V1, I_V_n, I_V_p]\n",
      "{I_V1: -I2, I_V_n: 0, I_V_p: 0, v1: (-I2*Raload_1*Raload_2*Rdif_2*gdif_2 - I2*Raload_1*Raload_2 - I2*Raload_2*Rdif_1*Rdif_2*gdif_2 - I2*Raload_2*Rdif_1 + Raload_1*Raload_2*Rdif_2*V1*gaload*gdif_2 + Raload_1*Raload_2*V1*gaload + Raload_1*Rdif_2*V1*gdif_2 + Raload_1*V1 - Raload_2*Rdif_1*Rdif_2*V_n*gdif_1*gdif_2 + Raload_2*Rdif_1*Rdif_2*V_p*gdif_1*gdif_2 + Raload_2*Rdif_1*V_p*gdif_1 + Raload_2*Rdif_2*V1*gdif_2 - Raload_2*Rdif_2*V_n*gdif_2 + Raload_2*V1 + Rdif_1*Rdif_2*V1*gdif_1 + Rdif_1*Rdif_2*V1*gdif_2 + Rdif_1*V1 + Rdif_2*V1)/(Raload_1*Raload_2*Rdif_2*gaload*gdif_2 + Raload_1*Raload_2*gaload + Raload_1*Rdif_2*gdif_2 + Raload_1 + Raload_2*Rdif_1*gdif_1 + Raload_2 + Rdif_1*Rdif_2*gdif_1 + Rdif_1*Rdif_2*gdif_2 + Rdif_1 + Rdif_2), v2: (-I2*Raload_1*Raload_2 - I2*Raload_1*Rdif_2 - I2*Raload_2*Rdif_1 - I2*Rdif_1*Rdif_2 + Raload_1*Raload_2*Rdif_2*V_n*gaload*gdif_2 + Raload_1*Raload_2*V1*gaload + Raload_1*Rdif_2*V_n*gdif_2 + Raload_1*V1 + Raload_2*Rdif_1*V_p*gdif_1 + Raload_2*V1 + Rdif_1*Rdif_2*V_n*gdif_2 + Rdif_1*Rdif_2*V_p*gdif_1 + Rdif_1*V1 + Rdif_2*V1)/(Raload_1*Raload_2*Rdif_2*gaload*gdif_2 + Raload_1*Raload_2*gaload + Raload_1*Rdif_2*gdif_2 + Raload_1 + Raload_2*Rdif_1*gdif_1 + Raload_2 + Rdif_1*Rdif_2*gdif_1 + Rdif_1*Rdif_2*gdif_2 + Rdif_1 + Rdif_2), v3: V_n, v4: (I2*Raload_1*Raload_2*Rdif_1*Rdif_2*gaload*gdif_2 + I2*Raload_1*Raload_2*Rdif_1*gaload - I2*Raload_1*Raload_2*Rdif_1*gdif_1 - I2*Raload_1*Raload_2 - I2*Raload_1*Rdif_1*Rdif_2*gdif_1 - I2*Raload_1*Rdif_2 + Raload_1*Raload_2*Rdif_1*Rdif_2*V_n*gaload*gdif_1*gdif_2 - Raload_1*Raload_2*Rdif_1*Rdif_2*V_p*gaload*gdif_1*gdif_2 + Raload_1*Raload_2*Rdif_1*V1*gaload*gdif_1 - Raload_1*Raload_2*Rdif_1*V_p*gaload*gdif_1 + Raload_1*Raload_2*Rdif_2*V_n*gaload*gdif_2 + Raload_1*Raload_2*V1*gaload + Raload_1*Rdif_1*Rdif_2*V_n*gdif_1*gdif_2 - Raload_1*Rdif_1*Rdif_2*V_p*gdif_1*gdif_2 + Raload_1*Rdif_1*V1*gdif_1 - Raload_1*Rdif_1*V_p*gdif_1 + Raload_1*Rdif_2*V_n*gdif_2 + Raload_1*V1 + Raload_2*Rdif_1*V1*gdif_1 + Raload_2*V1 + Rdif_1*Rdif_2*V1*gdif_1 + Rdif_1*Rdif_2*V1*gdif_2 + Rdif_1*V1 + Rdif_2*V1)/(Raload_1*Raload_2*Rdif_2*gaload*gdif_2 + Raload_1*Raload_2*gaload + Raload_1*Rdif_2*gdif_2 + Raload_1 + Raload_2*Rdif_1*gdif_1 + Raload_2 + Rdif_1*Rdif_2*gdif_1 + Rdif_1*Rdif_2*gdif_2 + Rdif_1 + Rdif_2), v5: V_p, v6: V1}\n",
      "     element p node n node cp node cn node Vout     value Vname Lname1 Lname2\n",
      "0         V1      6      0     NaN     NaN  NaN       1.8   NaN    NaN    NaN\n",
      "1        V_n      3      0     NaN     NaN  NaN       0.9   NaN    NaN    NaN\n",
      "2        V_p      5      0     NaN     NaN  NaN       0.9   NaN    NaN    NaN\n",
      "3     Rdif_2      1      2     NaN     NaN  NaN    1000.0   NaN    NaN    NaN\n",
      "4     Gdif_2      1      2       3       2  NaN      10.0   NaN    NaN    NaN\n",
      "5     Rdif_1      4      2     NaN     NaN  NaN    1000.0   NaN    NaN    NaN\n",
      "6     Gdif_1      4      2       5       2  NaN      10.0   NaN    NaN    NaN\n",
      "7         I2      2      0     NaN     NaN  NaN       1.0   NaN    NaN    NaN\n",
      "8   Raload_1      6      4     NaN     NaN  NaN    1000.0   NaN    NaN    NaN\n",
      "9   Raload_2      6      1     NaN     NaN  NaN    1000.0   NaN    NaN    NaN\n",
      "10    Gaload      4      6       1       6  NaN  0.000224   NaN    NaN    NaN\n",
      "dict_keys([<sstadex.models.macromodel.Macromodel object at 0x7f1d724f77f0>, <sstadex.models.macromodel.Macromodel object at 0x7f1d72300430>, <sstadex.models.primitives.simplediffpair object at 0x7f1d72303f40>])\n",
      "Macro results of:  activeLoad\n",
      "Update Macromodel:  ota\n",
      "Running MNA... \n"
     ]
    },
    {
     "name": "stderr",
     "output_type": "stream",
     "text": [
      "\n",
      "   X server connection failed, although DISPLAY shell variable is set.\n",
      "   A possible reason is that the X server is not running or DISPLAY shell variable\n",
      "   is incorrectly set.\n",
      "   Starting Xschem in text only mode.\n",
      "\n"
     ]
    },
    {
     "name": "stdout",
     "output_type": "stream",
     "text": [
      "A:  Matrix([[1/Rdif_2 + 1/Raload_2, -gdif_2 - 1/Rdif_2, gdif_2, 0, 0, -1/Raload_2, 0, 0, 0], [-1/Rdif_2, gdif_1 + gdif_2 + 1/Rdif_2 + 1/Rdif_1, -gdif_2, -1/Rdif_1, -gdif_1, 0, 0, 0, 0], [0, 0, 0, 0, 0, 0, 0, 1, 0], [gaload, -gdif_1 - 1/Rdif_1, 0, 1/Rdif_1 + 1/Raload_1, gdif_1, -gaload - 1/Raload_1, 0, 0, 0], [0, 0, 0, 0, 0, 0, 0, 0, 1], [-gaload - 1/Raload_2, 0, 0, -1/Raload_1, 0, gaload + 1/Raload_2 + 1/Raload_1, 1, 0, 0], [0, 0, 0, 0, 0, 1, 0, 0, 0], [0, 0, 1, 0, 0, 0, 0, 0, 0], [0, 0, 0, 0, 1, 0, 0, 0, 0]])\n",
      "[v1, v2, v3, v4, v5, v6, I_V1, I_V_n, I_V_p]\n",
      "{I_V1: -I2, I_V_n: 0, I_V_p: 0, v1: (-I2*Raload_1*Raload_2*Rdif_2*gdif_2 - I2*Raload_1*Raload_2 - I2*Raload_2*Rdif_1*Rdif_2*gdif_2 - I2*Raload_2*Rdif_1 + Raload_1*Raload_2*Rdif_2*V1*gaload*gdif_2 + Raload_1*Raload_2*V1*gaload + Raload_1*Rdif_2*V1*gdif_2 + Raload_1*V1 - Raload_2*Rdif_1*Rdif_2*V_n*gdif_1*gdif_2 + Raload_2*Rdif_1*Rdif_2*V_p*gdif_1*gdif_2 + Raload_2*Rdif_1*V_p*gdif_1 + Raload_2*Rdif_2*V1*gdif_2 - Raload_2*Rdif_2*V_n*gdif_2 + Raload_2*V1 + Rdif_1*Rdif_2*V1*gdif_1 + Rdif_1*Rdif_2*V1*gdif_2 + Rdif_1*V1 + Rdif_2*V1)/(Raload_1*Raload_2*Rdif_2*gaload*gdif_2 + Raload_1*Raload_2*gaload + Raload_1*Rdif_2*gdif_2 + Raload_1 + Raload_2*Rdif_1*gdif_1 + Raload_2 + Rdif_1*Rdif_2*gdif_1 + Rdif_1*Rdif_2*gdif_2 + Rdif_1 + Rdif_2), v2: (-I2*Raload_1*Raload_2 - I2*Raload_1*Rdif_2 - I2*Raload_2*Rdif_1 - I2*Rdif_1*Rdif_2 + Raload_1*Raload_2*Rdif_2*V_n*gaload*gdif_2 + Raload_1*Raload_2*V1*gaload + Raload_1*Rdif_2*V_n*gdif_2 + Raload_1*V1 + Raload_2*Rdif_1*V_p*gdif_1 + Raload_2*V1 + Rdif_1*Rdif_2*V_n*gdif_2 + Rdif_1*Rdif_2*V_p*gdif_1 + Rdif_1*V1 + Rdif_2*V1)/(Raload_1*Raload_2*Rdif_2*gaload*gdif_2 + Raload_1*Raload_2*gaload + Raload_1*Rdif_2*gdif_2 + Raload_1 + Raload_2*Rdif_1*gdif_1 + Raload_2 + Rdif_1*Rdif_2*gdif_1 + Rdif_1*Rdif_2*gdif_2 + Rdif_1 + Rdif_2), v3: V_n, v4: (I2*Raload_1*Raload_2*Rdif_1*Rdif_2*gaload*gdif_2 + I2*Raload_1*Raload_2*Rdif_1*gaload - I2*Raload_1*Raload_2*Rdif_1*gdif_1 - I2*Raload_1*Raload_2 - I2*Raload_1*Rdif_1*Rdif_2*gdif_1 - I2*Raload_1*Rdif_2 + Raload_1*Raload_2*Rdif_1*Rdif_2*V_n*gaload*gdif_1*gdif_2 - Raload_1*Raload_2*Rdif_1*Rdif_2*V_p*gaload*gdif_1*gdif_2 + Raload_1*Raload_2*Rdif_1*V1*gaload*gdif_1 - Raload_1*Raload_2*Rdif_1*V_p*gaload*gdif_1 + Raload_1*Raload_2*Rdif_2*V_n*gaload*gdif_2 + Raload_1*Raload_2*V1*gaload + Raload_1*Rdif_1*Rdif_2*V_n*gdif_1*gdif_2 - Raload_1*Rdif_1*Rdif_2*V_p*gdif_1*gdif_2 + Raload_1*Rdif_1*V1*gdif_1 - Raload_1*Rdif_1*V_p*gdif_1 + Raload_1*Rdif_2*V_n*gdif_2 + Raload_1*V1 + Raload_2*Rdif_1*V1*gdif_1 + Raload_2*V1 + Rdif_1*Rdif_2*V1*gdif_1 + Rdif_1*Rdif_2*V1*gdif_2 + Rdif_1*V1 + Rdif_2*V1)/(Raload_1*Raload_2*Rdif_2*gaload*gdif_2 + Raload_1*Raload_2*gaload + Raload_1*Rdif_2*gdif_2 + Raload_1 + Raload_2*Rdif_1*gdif_1 + Raload_2 + Rdif_1*Rdif_2*gdif_1 + Rdif_1*Rdif_2*gdif_2 + Rdif_1 + Rdif_2), v5: V_p, v6: V1}\n",
      "     element p node n node cp node cn node Vout     value Vname Lname1 Lname2\n",
      "0         V1      6      0     NaN     NaN  NaN       1.8   NaN    NaN    NaN\n",
      "1        V_n      3      0     NaN     NaN  NaN       0.9   NaN    NaN    NaN\n",
      "2        V_p      5      0     NaN     NaN  NaN       0.9   NaN    NaN    NaN\n",
      "3     Rdif_2      1      2     NaN     NaN  NaN    1000.0   NaN    NaN    NaN\n",
      "4     Gdif_2      1      2       3       2  NaN      10.0   NaN    NaN    NaN\n",
      "5     Rdif_1      4      2     NaN     NaN  NaN    1000.0   NaN    NaN    NaN\n",
      "6     Gdif_1      4      2       5       2  NaN      10.0   NaN    NaN    NaN\n",
      "7         I2      2      0     NaN     NaN  NaN       1.0   NaN    NaN    NaN\n",
      "8   Raload_1      6      4     NaN     NaN  NaN    1000.0   NaN    NaN    NaN\n",
      "9   Raload_2      6      1     NaN     NaN  NaN    1000.0   NaN    NaN    NaN\n",
      "10    Gaload      4      6       1       6  NaN  0.000224   NaN    NaN    NaN\n",
      "dict_keys([<sstadex.models.macromodel.Macromodel object at 0x7f1d724f77f0>, <sstadex.models.macromodel.Macromodel object at 0x7f1d72300430>, <sstadex.models.primitives.simplediffpair object at 0x7f1d72303f40>])\n",
      "Macro results of:  currentSource\n",
      "Update Macromodel:  ota\n",
      "Running MNA... \n"
     ]
    },
    {
     "name": "stderr",
     "output_type": "stream",
     "text": [
      "\n",
      "   X server connection failed, although DISPLAY shell variable is set.\n",
      "   A possible reason is that the X server is not running or DISPLAY shell variable\n",
      "   is incorrectly set.\n",
      "   Starting Xschem in text only mode.\n",
      "\n"
     ]
    },
    {
     "name": "stdout",
     "output_type": "stream",
     "text": [
      "A:  Matrix([[1/Rdif_2 + 1/Raload_2, -gdif_2 - 1/Rdif_2, gdif_2, 0, 0, -1/Raload_2, 0, 0, 0], [-1/Rdif_2, gdif_1 + gdif_2 + 1/Rdif_2 + 1/Rdif_1, -gdif_2, -1/Rdif_1, -gdif_1, 0, 0, 0, 0], [0, 0, 0, 0, 0, 0, 0, 1, 0], [gaload, -gdif_1 - 1/Rdif_1, 0, 1/Rdif_1 + 1/Raload_1, gdif_1, -gaload - 1/Raload_1, 0, 0, 0], [0, 0, 0, 0, 0, 0, 0, 0, 1], [-gaload - 1/Raload_2, 0, 0, -1/Raload_1, 0, gaload + 1/Raload_2 + 1/Raload_1, 1, 0, 0], [0, 0, 0, 0, 0, 1, 0, 0, 0], [0, 0, 1, 0, 0, 0, 0, 0, 0], [0, 0, 0, 0, 1, 0, 0, 0, 0]])\n",
      "[v1, v2, v3, v4, v5, v6, I_V1, I_V_n, I_V_p]\n",
      "{I_V1: -I2, I_V_n: 0, I_V_p: 0, v1: (-I2*Raload_1*Raload_2*Rdif_2*gdif_2 - I2*Raload_1*Raload_2 - I2*Raload_2*Rdif_1*Rdif_2*gdif_2 - I2*Raload_2*Rdif_1 + Raload_1*Raload_2*Rdif_2*V1*gaload*gdif_2 + Raload_1*Raload_2*V1*gaload + Raload_1*Rdif_2*V1*gdif_2 + Raload_1*V1 - Raload_2*Rdif_1*Rdif_2*V_n*gdif_1*gdif_2 + Raload_2*Rdif_1*Rdif_2*V_p*gdif_1*gdif_2 + Raload_2*Rdif_1*V_p*gdif_1 + Raload_2*Rdif_2*V1*gdif_2 - Raload_2*Rdif_2*V_n*gdif_2 + Raload_2*V1 + Rdif_1*Rdif_2*V1*gdif_1 + Rdif_1*Rdif_2*V1*gdif_2 + Rdif_1*V1 + Rdif_2*V1)/(Raload_1*Raload_2*Rdif_2*gaload*gdif_2 + Raload_1*Raload_2*gaload + Raload_1*Rdif_2*gdif_2 + Raload_1 + Raload_2*Rdif_1*gdif_1 + Raload_2 + Rdif_1*Rdif_2*gdif_1 + Rdif_1*Rdif_2*gdif_2 + Rdif_1 + Rdif_2), v2: (-I2*Raload_1*Raload_2 - I2*Raload_1*Rdif_2 - I2*Raload_2*Rdif_1 - I2*Rdif_1*Rdif_2 + Raload_1*Raload_2*Rdif_2*V_n*gaload*gdif_2 + Raload_1*Raload_2*V1*gaload + Raload_1*Rdif_2*V_n*gdif_2 + Raload_1*V1 + Raload_2*Rdif_1*V_p*gdif_1 + Raload_2*V1 + Rdif_1*Rdif_2*V_n*gdif_2 + Rdif_1*Rdif_2*V_p*gdif_1 + Rdif_1*V1 + Rdif_2*V1)/(Raload_1*Raload_2*Rdif_2*gaload*gdif_2 + Raload_1*Raload_2*gaload + Raload_1*Rdif_2*gdif_2 + Raload_1 + Raload_2*Rdif_1*gdif_1 + Raload_2 + Rdif_1*Rdif_2*gdif_1 + Rdif_1*Rdif_2*gdif_2 + Rdif_1 + Rdif_2), v3: V_n, v4: (I2*Raload_1*Raload_2*Rdif_1*Rdif_2*gaload*gdif_2 + I2*Raload_1*Raload_2*Rdif_1*gaload - I2*Raload_1*Raload_2*Rdif_1*gdif_1 - I2*Raload_1*Raload_2 - I2*Raload_1*Rdif_1*Rdif_2*gdif_1 - I2*Raload_1*Rdif_2 + Raload_1*Raload_2*Rdif_1*Rdif_2*V_n*gaload*gdif_1*gdif_2 - Raload_1*Raload_2*Rdif_1*Rdif_2*V_p*gaload*gdif_1*gdif_2 + Raload_1*Raload_2*Rdif_1*V1*gaload*gdif_1 - Raload_1*Raload_2*Rdif_1*V_p*gaload*gdif_1 + Raload_1*Raload_2*Rdif_2*V_n*gaload*gdif_2 + Raload_1*Raload_2*V1*gaload + Raload_1*Rdif_1*Rdif_2*V_n*gdif_1*gdif_2 - Raload_1*Rdif_1*Rdif_2*V_p*gdif_1*gdif_2 + Raload_1*Rdif_1*V1*gdif_1 - Raload_1*Rdif_1*V_p*gdif_1 + Raload_1*Rdif_2*V_n*gdif_2 + Raload_1*V1 + Raload_2*Rdif_1*V1*gdif_1 + Raload_2*V1 + Rdif_1*Rdif_2*V1*gdif_1 + Rdif_1*Rdif_2*V1*gdif_2 + Rdif_1*V1 + Rdif_2*V1)/(Raload_1*Raload_2*Rdif_2*gaload*gdif_2 + Raload_1*Raload_2*gaload + Raload_1*Rdif_2*gdif_2 + Raload_1 + Raload_2*Rdif_1*gdif_1 + Raload_2 + Rdif_1*Rdif_2*gdif_1 + Rdif_1*Rdif_2*gdif_2 + Rdif_1 + Rdif_2), v5: V_p, v6: V1}\n",
      "     element p node n node cp node cn node Vout     value Vname Lname1 Lname2\n",
      "0         V1      6      0     NaN     NaN  NaN       1.8   NaN    NaN    NaN\n",
      "1        V_n      3      0     NaN     NaN  NaN       0.9   NaN    NaN    NaN\n",
      "2        V_p      5      0     NaN     NaN  NaN       0.9   NaN    NaN    NaN\n",
      "3     Rdif_2      1      2     NaN     NaN  NaN    1000.0   NaN    NaN    NaN\n",
      "4     Gdif_2      1      2       3       2  NaN      10.0   NaN    NaN    NaN\n",
      "5     Rdif_1      4      2     NaN     NaN  NaN    1000.0   NaN    NaN    NaN\n",
      "6     Gdif_1      4      2       5       2  NaN      10.0   NaN    NaN    NaN\n",
      "7         I2      2      0     NaN     NaN  NaN       1.0   NaN    NaN    NaN\n",
      "8   Raload_1      6      4     NaN     NaN  NaN    1000.0   NaN    NaN    NaN\n",
      "9   Raload_2      6      1     NaN     NaN  NaN    1000.0   NaN    NaN    NaN\n",
      "10    Gaload      4      6       1       6  NaN  0.000224   NaN    NaN    NaN\n",
      "dict_keys([<sstadex.models.macromodel.Macromodel object at 0x7f1d724f77f0>, <sstadex.models.macromodel.Macromodel object at 0x7f1d72300430>, <sstadex.models.primitives.simplediffpair object at 0x7f1d72303f40>])\n"
     ]
    }
   ],
   "source": [
    "OTA_macro = Macromodel(name = \"ota\",\n",
    "                       macromodel_parameters={Symbol('Ra'): np.linspace(100, 100000, 5),\n",
    "                                              Symbol('gma'): np.linspace(0.001, 0.1, 5)},\n",
    "                       req_tfs = [[\"vout\", \"vpos\"]],\n",
    "                       electrical_parameters={Symbol(\"gdif_2\"): Symbol(\"gdif_1\"),\n",
    "                                              Symbol(\"Rdif_2\"): Symbol(\"Rdif_1\"),\n",
    "                                              Symbol(\"V1\"): 0,\n",
    "                                              Symbol(\"V_n\"): 0,\n",
    "                                              Symbol(\"V_p\"): 1,\n",
    "                                              Symbol(\"I2\"): 0},\n",
    "                        output = [Symbol('W'),\n",
    "                                  Symbol('mesh')])\n",
    "\n",
    "vs = np.linspace(0.1, 0.8, 5)\n",
    "vds_diffpar = 1.2 - vs\n",
    "vgs_diffpar = 0.9 - vs\n",
    "\n",
    "parametros_electricos = {'Vds': vds_diffpar, 'Vsb': 0, 'Vgs': vgs_diffpar}\n",
    "\n",
    "diffpair_primitive = simplediffpair(netlist='simplediffpair.spice', type='nmos', inputs={'vds_lut': (0.1, 1.2, 0.01), 'vgs_lut': (0.1, 1.8, 0.01), 'vds': parametros_electricos['Vds'], 'vgs': parametros_electricos['Vgs'], 'il': 20e-6,\n",
    "                  'length': [0.4e-06, 0.8e-06, 1.6e-06, 3.2e-06, 6.4e-6], '2d_var': ['vds', 'vgs']})\n",
    "\n",
    "diffpair_primitive.build()\n",
    "\n",
    "diffpair_primitive.parameters = {Symbol(\"Rdif_1\"): np.asarray(diffpair_primitive.Ro).flatten(), \n",
    "                                 Symbol(\"gdif_1\"): np.asarray(diffpair_primitive.gm).flatten()}\n",
    "diffpair_primitive.output = {Symbol('W'): np.asarray(diffpair_primitive.W).flatten(),\n",
    "                             Symbol('mesh'): np.asarray(diffpair_primitive.mesh)}\n",
    "\n",
    "active_load = Macromodel(name = \"activeLoad\",\n",
    "                         macromodel_parameters = {Symbol(\"Raload_1\"): np.linspace(100, 100000, 5),\n",
    "                                                  Symbol(\"Raload_2\"): np.linspace(100, 100000, 5),\n",
    "                                                  Symbol(\"gaload\"): np.linspace(0.001, 0.1, 5)})\n",
    "\n",
    "current_source = Macromodel(name = \"currentSource\")\n",
    "\n",
    "\n",
    "OTA_macro.submacromodels = [active_load, current_source]\n",
    "OTA_macro.primitives = [diffpair_primitive]\n",
    "\n",
    "\n",
    "class test:\n",
    "    def __init__(self) -> None:\n",
    "        pass\n",
    "    def eval(funct):\n",
    "        return {\"eval\": funct}\n",
    "\n",
    "#################### PSRR #######################\n",
    "psrr = test()\n",
    "psrr.tf = (\"vout\", \"vpos\")\n",
    "psrr.parametros = {Symbol(\"gdif_2\"): Symbol(\"gdif_1\"),\n",
    "                   Symbol(\"Rdif_2\"): Symbol(\"Rdif_1\"),\n",
    "                   Symbol(\"V1\"): 0,\n",
    "                   Symbol(\"V_n\"): 0,\n",
    "                   Symbol(\"V_p\"): 1,\n",
    "                   Symbol(\"I2\"): 0}\n",
    "psrr.variables = {}\n",
    "psrr.out_def = {\"eval\": psrr.tf}\n",
    "\n",
    "OTA_macro.especificaciones = [psrr]\n",
    "\n",
    "results, axes, primoutputs = dfs(OTA_macro)"
   ]
  },
  {
   "cell_type": "code",
   "execution_count": 36,
   "metadata": {},
   "outputs": [
    {
     "data": {
      "image/png": "[encoded data removed]",
      "text/plain": [
       "<Figure size 640x480 with 1 Axes>"
      ]
     },
     "metadata": {},
     "output_type": "display_data"
    }
   ],
   "source": [
    "for i in range(5):\n",
    "    plt.scatter(np.tile(diffpair_primitive.W, 125).reshape(5, 625)[i], results[0].reshape(5, 625)[i])\n",
    "    plt.xscale(\"log\")"
   ]
  },
  {
   "cell_type": "code",
   "execution_count": 8,
   "metadata": {},
   "outputs": [
    {
     "ename": "IndexError",
     "evalue": "list index out of range",
     "output_type": "error",
     "traceback": [
      "\u001b[0;31m---------------------------------------------------------------------------\u001b[0m",
      "\u001b[0;31mIndexError\u001b[0m                                Traceback (most recent call last)",
      "Cell \u001b[0;32mIn[8], line 1\u001b[0m\n\u001b[0;32m----> 1\u001b[0m primoutputs \u001b[38;5;241m=\u001b[39m np\u001b[38;5;241m.\u001b[39masarray(\u001b[43mprimoutputs\u001b[49m\u001b[43m[\u001b[49m\u001b[38;5;241;43m0\u001b[39;49m\u001b[43m]\u001b[49m[\u001b[38;5;241m0\u001b[39m])\n\u001b[1;32m      2\u001b[0m W \u001b[38;5;241m=\u001b[39m np\u001b[38;5;241m.\u001b[39mtile(primoutputs, \u001b[38;5;241m125\u001b[39m)\n\u001b[1;32m      3\u001b[0m L \u001b[38;5;241m=\u001b[39m np\u001b[38;5;241m.\u001b[39mtile(diffpair_primitive\u001b[38;5;241m.\u001b[39mL, \u001b[38;5;241m125\u001b[39m)\n",
      "\u001b[0;31mIndexError\u001b[0m: list index out of range"
     ]
    }
   ],
   "source": [
    "primoutputs = np.asarray(primoutputs[0][0])\n",
    "W = np.tile(primoutputs, 125)\n",
    "L = np.tile(diffpair_primitive.L, 125)\n",
    "\n",
    "area = W+L\n",
    "\n",
    "plt.scatter(area.flatten(), results[0].transpose().flatten())\n",
    "plt.xscale('log')"
   ]
  },
  {
   "cell_type": "code",
   "execution_count": 106,
   "metadata": {},
   "outputs": [
    {
     "name": "stdout",
     "output_type": "stream",
     "text": [
      "(25, 125)\n",
      "(25, 125)\n",
      "(25, 125)\n",
      "41.44612959320696\n",
      "7.457589939425457e-06\n",
      "6.4e-06\n"
     ]
    }
   ],
   "source": [
    "W_2 = W.reshape(-1, 125)\n",
    "print(W_2.shape)\n",
    "L_2 = L.reshape(-1, 125)\n",
    "print(L_2.shape)\n",
    "results_2 = results[0].transpose()\n",
    "print(results_2.shape)\n",
    "\n",
    "print(results[0][120][15])\n",
    "print(W_2[15][120])\n",
    "print(L_2[15][120]) "
   ]
  },
  {
   "cell_type": "markdown",
   "metadata": {},
   "source": [
    "# OTA diffpair and active load as primitives"
   ]
  },
  {
   "cell_type": "code",
   "execution_count": 14,
   "metadata": {},
   "outputs": [
    {
     "name": "stdout",
     "output_type": "stream",
     "text": [
      "length\n",
      "vgs\n",
      "0\n"
     ]
    }
   ],
   "source": [
    "ota_cm_pmos = cm_pmos(name='ota_cm_pmos', netlist='pmos_cm.spice', type='pmos', inputs={'vds_lut': -0.6, 'vgs_lut': (-1.8, -0.1, 0.01), 'vgs': -0.6, 'il': 20e-6,\n",
    "                  'length': [0.4e-06, 0.8e-06, 1.6e-06, 3.2e-06, 6.4e-6], '2d_var': ['length', 'vgs']})\n",
    "ota_cm_pmos.build()\n",
    "\n",
    "ota_cm_pmos.parameters = {Symbol(\"Raload_1\"): np.asarray(ota_cm_pmos.Ro).flatten(),\n",
    "                          Symbol(\"Raload_2\"): 1/np.asarray(ota_cm_pmos.gm).flatten(),\n",
    "                          Symbol(\"gaload\"): np.asarray(ota_cm_pmos.gm).flatten()}"
   ]
  },
  {
   "cell_type": "code",
   "execution_count": 15,
   "metadata": {},
   "outputs": [
    {
     "name": "stdout",
     "output_type": "stream",
     "text": [
      "Macro results of:  ota\n",
      "Running MNA... \n",
      "dict_keys([<sstadex.models.primitives.simplediffpair object at 0x7f3143f9ff40>, <sstadex.models.primitives.cm_pmos object at 0x7f3140b7e620>])\n"
     ]
    }
   ],
   "source": [
    "OTA_macro.submacromodels = []\n",
    "OTA_macro.primitives = [diffpair_primitive, ota_cm_pmos]\n",
    "\n",
    "results_1, axes_1, a = dfs(OTA_macro)"
   ]
  },
  {
   "cell_type": "code",
   "execution_count": 10,
   "metadata": {},
   "outputs": [
    {
     "data": {
      "text/plain": [
       "(125,)"
      ]
     },
     "execution_count": 10,
     "metadata": {},
     "output_type": "execute_result"
    }
   ],
   "source": [
    "results_1[0] = np.asarray(results_1[0]).flatten()\n",
    "results_1[0].shape\n",
    "\n",
    "Ra = []\n",
    "gma = []\n",
    "\n",
    "for i in axes_1[0][0]:\n",
    "        Ra.append(i)\n",
    "for i in axes_1[0][1]:\n",
    "        gma.append(i)\n",
    "\n",
    "len(Ra)\n",
    "len(gma)\n",
    "\n",
    "gain = 20*np.log10(np.asarray(Ra)*np.asarray(gma))\n",
    "\n",
    "plt.scatter(gain, results_1[0].flatten())"
   ]
  },
  {
   "cell_type": "code",
   "execution_count": 97,
   "metadata": {},
   "outputs": [
    {
     "name": "stdout",
     "output_type": "stream",
     "text": [
      "43.86623544194539\n",
      "164032.77908139848\n",
      "0.0005893861966814314\n",
      "965620.3477706314\n",
      "4551.56315538315\n",
      "0.0002197047400775482\n",
      "0.00029366378763092716\n",
      "6.4e-06\n",
      "0.00027288429229105864\n",
      "6.4e-06\n"
     ]
    }
   ],
   "source": [
    "i = 4\n",
    "j = 22\n",
    "\n",
    "print(results_1[0].reshape(5, 25)[i,j])\n",
    "print(axes_1[0][0][i*j])\n",
    "print(axes_1[0][1][i*j])\n",
    "print(axes_1[0][2][i*j])\n",
    "print(axes_1[0][3][i*j])\n",
    "print(axes_1[0][4][i*j])\n",
    "print(np.tile(diffpair_primitive.W, 5).reshape(5, 25)[i,j])\n",
    "print(np.tile(diffpair_primitive.L, 5).reshape(5, 25)[i,j])\n",
    "print(ota_cm_pmos.W.repeat(25).reshape(5, 25)[i,j])\n",
    "print(ota_cm_pmos.L.repeat(25).reshape(5, 25)[i,j])\n"
   ]
  },
  {
   "cell_type": "code",
   "execution_count": 16,
   "metadata": {},
   "outputs": [
    {
     "data": {
      "image/png": "[encoded data removed]",
      "text/plain": [
       "<Figure size 640x480 with 1 Axes>"
      ]
     },
     "metadata": {},
     "output_type": "display_data"
    }
   ],
   "source": [
    "for i in range(5):\n",
    "    plt.scatter(np.tile(diffpair_primitive.W, 5).reshape(5, 25)[i]+ota_cm_pmos.W.repeat(25).reshape(5, 25)[i], results_1[0].reshape(5, 25)[i])\n",
    "    plt.xscale(\"log\")"
   ]
  },
  {
   "cell_type": "code",
   "execution_count": null,
   "metadata": {},
   "outputs": [],
   "source": [
    "pt = Primitive(name = \"passTransistor\", \n",
    "               parameters = {Symbol('gm_pt'): np.linspace(0.001, 0.1, 5), \n",
    "                             Symbol('Ro_pt'): np.linspace(100, 100000, 5)})\n",
    "\n",
    "LDO_macro = Macromodel(name = \"ldo\", \n",
    "                       submacromodels = [OTA_macro],\n",
    "                       req_tfs = [[\"vout\", \"net1\"]], \n",
    "                       primitives = [pt], \n",
    "                       electrical_parameters={Symbol(\"V1\"): 1, \n",
    "                                              Symbol(\"V2\"): 0, \n",
    "                                              Symbol(\"R2\"): 100000, \n",
    "                                              Symbol(\"R3\"): 300000})\n",
    "\n",
    "results, axes = dfs(LDO_macro)"
   ]
  },
  {
   "cell_type": "code",
   "execution_count": 389,
   "metadata": {},
   "outputs": [],
   "source": [
    "a = np.asarray([np.asarray([1, 2]), np.asarray([3, 4])])\n",
    "b = np.asarray([np.array([5, 6, 7]), np.array([8, 9, 10]), np.array([11, 12, 13])])\n",
    "\n",
    "c = np.meshgrid(a, b)\n",
    "d = np.meshgrid(a, b, indexing=\"ij\")"
   ]
  },
  {
   "cell_type": "code",
   "execution_count": 390,
   "metadata": {},
   "outputs": [
    {
     "name": "stdout",
     "output_type": "stream",
     "text": [
      "(2, 9, 4)\n",
      "(2, 4, 9)\n"
     ]
    }
   ],
   "source": [
    "c = np.asarray(c)\n",
    "d = np.asarray(d)\n",
    "print(c.shape)\n",
    "print(d.shape)"
   ]
  }
 ],
 "metadata": {
  "kernelspec": {
   "display_name": "sstadex",
   "language": "python",
   "name": "python3"
  },
  "language_info": {
   "codemirror_mode": {
    "name": "ipython",
    "version": 3
   },
   "file_extension": ".py",
   "mimetype": "text/x-python",
   "name": "python",
   "nbconvert_exporter": "python",
   "pygments_lexer": "ipython3",
   "version": "3.10.12"
  }
 },
 "nbformat": 4,
 "nbformat_minor": 2
}
