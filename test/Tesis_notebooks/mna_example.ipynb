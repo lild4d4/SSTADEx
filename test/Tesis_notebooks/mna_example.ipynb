{
 "cells": [
  {
   "cell_type": "code",
   "execution_count": 1,
   "metadata": {},
   "outputs": [],
   "source": [
    "from sstadex import mna, Macromodel, mna_solve\n",
    "from sympy import Symbol\n",
    "from sympy.solvers import solve"
   ]
  },
  {
   "cell_type": "code",
   "execution_count": null,
   "metadata": {},
   "outputs": [
    {
     "name": "stdout",
     "output_type": "stream",
     "text": [
      "Running MNA... \n",
      "  element p node n node cp node cn node Vout     value Vname Lname1 Lname2\n",
      "0      V1      2      0     NaN     NaN  NaN       3.0   NaN    NaN    NaN\n",
      "1      V2      3      0     NaN     NaN  NaN       1.8   NaN    NaN    NaN\n",
      "2      R1      1      0     NaN     NaN  NaN       1.0   NaN    NaN    NaN\n",
      "3      G1      1      0       2       0  NaN  0.000001   NaN    NaN    NaN\n",
      "4      C1      1      0     NaN     NaN  NaN       1.0   NaN    NaN    NaN\n",
      "5      I0      3      1     NaN     NaN  NaN       1.0   NaN    NaN    NaN\n",
      "6      C2      2      0     NaN     NaN  NaN       1.0   NaN    NaN    NaN\n",
      "7      C3      2      1     NaN     NaN  NaN       1.0   NaN    NaN    NaN\n",
      "   vout  vss  vin  vdd\n",
      "0     1    0    2    3\n",
      "Matrix([[C1*s + C3*s + 1/R1, -C3*s + g1, 0, 0, 0], [-C3*s, C2*s + C3*s, 0, 1, 0], [0, 0, 0, 0, 1], [0, 1, 0, 0, 0], [0, 0, 1, 0, 0]])\n",
      "[v1, v2, v3, I_V1, I_V2]\n",
      "[I0, 0, -I0, V1, V2]\n"
     ]
    },
    {
     "data": {
      "text/plain": [
       "{I_V1: (-C1*C2*R1*V1*s**2 - C1*C3*R1*V1*s**2 - C2*C3*R1*V1*s**2 - C2*V1*s + C3*I0*R1*s - C3*R1*V1*g1*s - C3*V1*s)/(C1*R1*s + C3*R1*s + 1),\n",
       " I_V2: -I0,\n",
       " v1: (C3*R1*V1*s + I0*R1 - R1*V1*g1)/(C1*R1*s + C3*R1*s + 1),\n",
       " v2: V1,\n",
       " v3: V2}"
      ]
     },
     "execution_count": 15,
     "metadata": {},
     "output_type": "execute_result"
    }
   ],
   "source": [
    "XSCHEM_RCFILE = \"/opt/pdks/sky130A/libs.tech/xschem/xschemrc\"\n",
    "SPICE_DIR = \"./spice/\"\n",
    "OUTPUT_DIR = \"./output/\"\n",
    "XSCHEM_DIR = \"./xschem/\"\n",
    "\n",
    "mna_example = Macromodel(name=\"mna_example\")\n",
    "\n",
    "report, df, df2, A, X, Z, nodes = mna(XSCHEM_RCFILE, XSCHEM_DIR, SPICE_DIR, OUTPUT_DIR, mna_example)\n",
    "\n",
    "print(df)\n",
    "print(nodes)\n",
    "print(A)\n",
    "print(X)    \n",
    "print(Z)\n",
    "\n",
    "sol = mna_solve(mna_example)\n",
    "sol"
   ]
  },
  {
   "cell_type": "code",
   "execution_count": 11,
   "metadata": {},
   "outputs": [
    {
     "name": "stdout",
     "output_type": "stream",
     "text": [
      "Running MNA... \n",
      "  element p node n node cp node cn node Vout          value Vname Lname1  \\\n",
      "0      V1      3      0     NaN     NaN  NaN            3.0   NaN    NaN   \n",
      "1   Ro_m2      1      2     NaN     NaN  NaN  49115100000.0   NaN    NaN   \n",
      "2   Gm_m2      1      2       0       2  NaN            0.0   NaN    NaN   \n",
      "3  Cgs_m2      0      2     NaN     NaN  NaN            0.0   NaN    NaN   \n",
      "4   Ro_m1      2      0     NaN     NaN  NaN  49115100000.0   NaN    NaN   \n",
      "5   Gm_m1      2      0       3       0  NaN            0.0   NaN    NaN   \n",
      "6  Cds_m1      2      0     NaN     NaN  NaN            0.0   NaN    NaN   \n",
      "7      I2      0      1     NaN     NaN  NaN            0.0   NaN    NaN   \n",
      "\n",
      "  Lname2  \n",
      "0    NaN  \n",
      "1    NaN  \n",
      "2    NaN  \n",
      "3    NaN  \n",
      "4    NaN  \n",
      "5    NaN  \n",
      "6    NaN  \n",
      "7    NaN  \n",
      "   vout  vcp  vss  vin\n",
      "0     1    2    0    3\n",
      "Matrix([[1/Ro_m2, -gm_m2 - 1/Ro_m2, 0, 0], [-1/Ro_m2, Cds_m1*s + Cgs_m2*s + gm_m2 + 1/Ro_m2 + 1/Ro_m1, gm_m1, 0], [0, 0, 0, 1], [0, 0, 1, 0]])\n",
      "[v1, v2, v3, I_V1]\n",
      "[I2, 0, 0, V1]\n"
     ]
    },
    {
     "data": {
      "text/plain": [
       "{I_V1: 0,\n",
       " v1: (Cds_m1*I2*Ro_m1*Ro_m2*s + Cgs_m2*I2*Ro_m1*Ro_m2*s + I2*Ro_m1*Ro_m2*gm_m2 + I2*Ro_m1 + I2*Ro_m2 - Ro_m1*Ro_m2*V1*gm_m1*gm_m2 - Ro_m1*V1*gm_m1)/(Cds_m1*Ro_m1*s + Cgs_m2*Ro_m1*s + 1),\n",
       " v2: (I2*Ro_m1 - Ro_m1*V1*gm_m1)/(Cds_m1*Ro_m1*s + Cgs_m2*Ro_m1*s + 1),\n",
       " v3: V1}"
      ]
     },
     "execution_count": 11,
     "metadata": {},
     "output_type": "execute_result"
    }
   ],
   "source": [
    "XSCHEM_RCFILE = \"/opt/pdks/sky130A/libs.tech/xschem/xschemrc\"\n",
    "SPICE_DIR = \"./spice/\"\n",
    "OUTPUT_DIR = \"./output/\"\n",
    "XSCHEM_DIR = \"./xschem/\"\n",
    "\n",
    "mna_example = Macromodel(name=\"cascode_test\")\n",
    "\n",
    "report, df, df2, A, X, Z, nodes = mna(XSCHEM_RCFILE, XSCHEM_DIR, SPICE_DIR, OUTPUT_DIR, mna_example)\n",
    "\n",
    "print(df)\n",
    "print(nodes)\n",
    "print(A)\n",
    "print(X)    \n",
    "print(Z)\n",
    "\n",
    "sol = mna_solve(mna_example)\n",
    "sol"
   ]
  },
  {
   "cell_type": "code",
   "execution_count": 18,
   "metadata": {},
   "outputs": [
    {
     "data": {
      "text/latex": [
       "$\\displaystyle \\frac{2829.2185413346}{2.58083832335329 \\cdot 10^{-8} s + 1}$"
      ],
      "text/plain": [
       "2829.2185413346/(2.58083832335329e-8*s + 1)"
      ]
     },
     "execution_count": 18,
     "metadata": {},
     "output_type": "execute_result"
    }
   ],
   "source": [
    "a = sol[Symbol(\"v1\")].subs([(\"I2\", 0), (\"V1\", 1), (Symbol(\"Ro_m1\"), 1/6.68e-7), (Symbol(\"Ro_m2\"), 1/1.39e-5), (Symbol(\"gm_m1\"), 0.0001101), (Symbol(\"gm_m2\"), 0.0002247), \n",
    "                            (Symbol(\"Cds_m1\"), 1.28e-14), (Symbol(\"Cgs_m2\"), 4.44e-15)])\n",
    "a = a*-1\n",
    "a"
   ]
  },
  {
   "cell_type": "code",
   "execution_count": 19,
   "metadata": {},
   "outputs": [
    {
     "data": {
      "text/latex": [
       "$\\displaystyle 2829.2185413346$"
      ],
      "text/plain": [
       "2829.21854133460"
      ]
     },
     "execution_count": 19,
     "metadata": {},
     "output_type": "execute_result"
    }
   ],
   "source": [
    "a.subs(Symbol(\"s\"), 0)"
   ]
  },
  {
   "cell_type": "code",
   "execution_count": 20,
   "metadata": {},
   "outputs": [
    {
     "data": {
      "text/plain": [
       "np.float64(66.03332991152868)"
      ]
     },
     "execution_count": 20,
     "metadata": {},
     "output_type": "execute_result"
    }
   ],
   "source": [
    "import numpy as np\n",
    "\n",
    "20*np.log10(2829.2185413346)-3"
   ]
  },
  {
   "cell_type": "code",
   "execution_count": 21,
   "metadata": {},
   "outputs": [
    {
     "data": {
      "text/plain": [
       "2002.9333394392474"
      ]
     },
     "execution_count": 21,
     "metadata": {},
     "output_type": "execute_result"
    }
   ],
   "source": [
    "10**(66.0333299115286/20)"
   ]
  },
  {
   "cell_type": "code",
   "execution_count": 22,
   "metadata": {},
   "outputs": [
    {
     "data": {
      "text/latex": [
       "$\\displaystyle 2544178.4158278$"
      ],
      "text/plain": [
       "2544178.41582780"
      ]
     },
     "execution_count": 22,
     "metadata": {},
     "output_type": "execute_result"
    }
   ],
   "source": [
    "fc = solve(a-2002.9, Symbol(\"s\"))[0]/(2*np.pi)\n",
    "fc"
   ]
  },
  {
   "cell_type": "code",
   "execution_count": 30,
   "metadata": {},
   "outputs": [
    {
     "data": {
      "text/plain": [
       "46018015.66642739"
      ]
     },
     "execution_count": 30,
     "metadata": {},
     "output_type": "execute_result"
    }
   ],
   "source": [
    "rout = (0.0001904/3.1827e-6)/1.3e-6\n",
    "rout "
   ]
  },
  {
   "cell_type": "code",
   "execution_count": 23,
   "metadata": {},
   "outputs": [
    {
     "ename": "NameError",
     "evalue": "name 'rout' is not defined",
     "output_type": "error",
     "traceback": [
      "\u001b[0;31m---------------------------------------------------------------------------\u001b[0m",
      "\u001b[0;31mNameError\u001b[0m                                 Traceback (most recent call last)",
      "Cell \u001b[0;32mIn[23], line 1\u001b[0m\n\u001b[0;32m----> 1\u001b[0m \u001b[38;5;241m1\u001b[39m\u001b[38;5;241m/\u001b[39m(fc\u001b[38;5;241m*\u001b[39m\u001b[43mrout\u001b[49m)\n",
      "\u001b[0;31mNameError\u001b[0m: name 'rout' is not defined"
     ]
    }
   ],
   "source": [
    "1/(fc*rout)"
   ]
  },
  {
   "cell_type": "code",
   "execution_count": 24,
   "metadata": {},
   "outputs": [
    {
     "data": {
      "text/plain": [
       "9.435804627557945e-15"
      ]
     },
     "execution_count": 24,
     "metadata": {},
     "output_type": "execute_result"
    }
   ],
   "source": [
    "1/(2302995.94*rout)"
   ]
  },
  {
   "cell_type": "code",
   "execution_count": 239,
   "metadata": {},
   "outputs": [
    {
     "data": {
      "text/plain": [
       "1.8297994890380274e-13"
      ]
     },
     "execution_count": 239,
     "metadata": {},
     "output_type": "execute_result"
    }
   ],
   "source": [
    "1.67e-9*1.83e-13/(1.67e-9+1.83e-13)"
   ]
  },
  {
   "cell_type": "code",
   "execution_count": 264,
   "metadata": {},
   "outputs": [
    {
     "data": {
      "text/plain": [
       "314198.6363779181"
      ]
     },
     "execution_count": 264,
     "metadata": {},
     "output_type": "execute_result"
    }
   ],
   "source": [
    "1/3.1827e-6"
   ]
  },
  {
   "cell_type": "code",
   "execution_count": 267,
   "metadata": {},
   "outputs": [
    {
     "data": {
      "text/plain": [
       "769230.7692307692"
      ]
     },
     "execution_count": 267,
     "metadata": {},
     "output_type": "execute_result"
    }
   ],
   "source": [
    "1/1.3e-6"
   ]
  },
  {
   "cell_type": "code",
   "execution_count": null,
   "metadata": {},
   "outputs": [],
   "source": []
  }
 ],
 "metadata": {
  "kernelspec": {
   "display_name": "sstadex",
   "language": "python",
   "name": "python3"
  },
  "language_info": {
   "codemirror_mode": {
    "name": "ipython",
    "version": 3
   },
   "file_extension": ".py",
   "mimetype": "text/x-python",
   "name": "python",
   "nbconvert_exporter": "python",
   "pygments_lexer": "ipython3",
   "version": "3.10.12"
  }
 },
 "nbformat": 4,
 "nbformat_minor": 2
}
