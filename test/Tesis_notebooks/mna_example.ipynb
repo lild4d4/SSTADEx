{
 "cells": [
  {
   "cell_type": "code",
   "execution_count": 1,
   "metadata": {},
   "outputs": [],
   "source": [
    "from sstadex import mna, Macromodel, mna_solve\n",
    "from sympy import Symbol\n",
    "from sympy.solvers import solve"
   ]
  },
  {
   "cell_type": "code",
   "execution_count": 2,
   "metadata": {},
   "outputs": [
    {
     "name": "stdout",
     "output_type": "stream",
     "text": [
      "Running MNA... \n",
      "  element p node n node cp node cn node Vout     value Vname Lname1 Lname2\n",
      "0      V1      2      0     NaN     NaN  NaN       3.0   NaN    NaN    NaN\n",
      "1      V2      3      0     NaN     NaN  NaN       1.8   NaN    NaN    NaN\n",
      "2      R1      1      0     NaN     NaN  NaN       1.0   NaN    NaN    NaN\n",
      "3      G1      1      0       2       0  NaN  0.000001   NaN    NaN    NaN\n",
      "4      C1      1      0     NaN     NaN  NaN       1.0   NaN    NaN    NaN\n",
      "5      I0      3      1     NaN     NaN  NaN       1.0   NaN    NaN    NaN\n",
      "6      C2      2      0     NaN     NaN  NaN       1.0   NaN    NaN    NaN\n",
      "7      C3      2      1     NaN     NaN  NaN       1.0   NaN    NaN    NaN\n",
      "   vout  vss  vin  vdd\n",
      "0     1    0    2    3\n",
      "Matrix([[C1*s + C3*s + 1/R1, -C3*s + g1, 0, 0, 0], [-C3*s, C2*s + C3*s, 0, 1, 0], [0, 0, 0, 0, 1], [0, 1, 0, 0, 0], [0, 0, 1, 0, 0]])\n",
      "[v1, v2, v3, I_V1, I_V2]\n",
      "[I0, 0, -I0, V1, V2]\n"
     ]
    },
    {
     "data": {
      "text/plain": [
       "{I_V1: (-C1*C2*R1*V1*s**2 - C1*C3*R1*V1*s**2 - C2*C3*R1*V1*s**2 - C2*V1*s + C3*I0*R1*s - C3*R1*V1*g1*s - C3*V1*s)/(C1*R1*s + C3*R1*s + 1),\n",
       " I_V2: -I0,\n",
       " v1: (C3*R1*V1*s + I0*R1 - R1*V1*g1)/(C1*R1*s + C3*R1*s + 1),\n",
       " v2: V1,\n",
       " v3: V2}"
      ]
     },
     "execution_count": 2,
     "metadata": {},
     "output_type": "execute_result"
    }
   ],
   "source": [
    "XSCHEM_RCFILE = \"/opt/pdks/sky130A/libs.tech/xschem/xschemrc\"\n",
    "SPICE_DIR = \"./spice/\"\n",
    "OUTPUT_DIR = \"./output/\"\n",
    "XSCHEM_DIR = \"./xschem/\"\n",
    "\n",
    "mna_example = Macromodel(name=\"mna_example\")\n",
    "\n",
    "report, df, df2, A, X, Z, nodes = mna(XSCHEM_RCFILE, XSCHEM_DIR, SPICE_DIR, OUTPUT_DIR, mna_example)\n",
    "\n",
    "print(df)\n",
    "print(nodes)\n",
    "print(A)\n",
    "print(X)    \n",
    "print(Z)\n",
    "\n",
    "sol = mna_solve(mna_example)\n",
    "sol"
   ]
  },
  {
   "cell_type": "code",
   "execution_count": 13,
   "metadata": {},
   "outputs": [
    {
     "data": {
      "text/latex": [
       "$\\displaystyle \\frac{C_{3} R_{1} V_{1} s + I_{0} R_{1} - R_{1} V_{1} g_{1}}{C_{1} R_{1} s + C_{3} R_{1} s + 1}$"
      ],
      "text/plain": [
       "(C3*R1*V1*s + I0*R1 - R1*V1*g1)/(C1*R1*s + C3*R1*s + 1)"
      ]
     },
     "execution_count": 13,
     "metadata": {},
     "output_type": "execute_result"
    }
   ],
   "source": [
    "sol[Symbol(\"v1\")]   "
   ]
  }
 ],
 "metadata": {
  "kernelspec": {
   "display_name": "sstadex",
   "language": "python",
   "name": "python3"
  },
  "language_info": {
   "codemirror_mode": {
    "name": "ipython",
    "version": 3
   },
   "file_extension": ".py",
   "mimetype": "text/x-python",
   "name": "python",
   "nbconvert_exporter": "python",
   "pygments_lexer": "ipython3",
   "version": "3.10.12"
  }
 },
 "nbformat": 4,
 "nbformat_minor": 2
}
